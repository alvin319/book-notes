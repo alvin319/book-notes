{
 "cells": [
  {
   "cell_type": "code",
   "execution_count": 24,
   "metadata": {},
   "outputs": [],
   "source": [
    "import time\n",
    "from functools import wraps\n",
    "\n",
    "def timefn(fn):\n",
    "    \"\"\"\n",
    "    Defining a decorator to automate timing measurements\n",
    "    \"\"\"\n",
    "    # Wraps copy over the function name, docstring, arguments list,\n",
    "    # so inspecting the function name and docstring will be displayed properly\n",
    "    @wraps(fn)\n",
    "    def measure_time(*args, **kwargs):\n",
    "        \"\"\"\n",
    "        args for positional arguments\n",
    "        kwargs for key-word/optional/key-value arguments \n",
    "        \"\"\"\n",
    "        print(args, kwargs)\n",
    "        start_time = time.time()\n",
    "        result = fn(*args, **kwargs)\n",
    "        end_time = time.time()\n",
    "        print('@timefn: {} took {} seconds'.format(fn.func_name, str(end_time - start_time)))\n",
    "        \n",
    "        return result\n",
    "    \n",
    "    return measure_time"
   ]
  },
  {
   "cell_type": "code",
   "execution_count": 26,
   "metadata": {},
   "outputs": [
    {
     "name": "stdout",
     "output_type": "stream",
     "text": [
      "((100, 5), {})\n",
      "@timefn: test took 1.90734863281e-06 seconds\n",
      "105\n",
      "((100, 5), {})\n",
      "@timefn: test took 2.14576721191e-06 seconds\n",
      "105\n",
      "((), {'a': 100, 'b': 5})\n",
      "@timefn: test took 2.86102294922e-06 seconds\n",
      "105\n"
     ]
    }
   ],
   "source": [
    "@timefn\n",
    "def test(a, b):\n",
    "    return a + b\n",
    "\n",
    "print(test(100, 5))\n",
    "\n",
    "args = (100, 5)\n",
    "print(test(*args))\n",
    "\n",
    "kwargs = {'a': 100, 'b': 5}\n",
    "print(test(**kwargs))"
   ]
  },
  {
   "cell_type": "code",
   "execution_count": 69,
   "metadata": {},
   "outputs": [
    {
     "name": "stdout",
     "output_type": "stream",
     "text": [
      "The slowest run took 9.19 times longer than the fastest. This could mean that an intermediate result is being cached.\n",
      "1000000 loops, best of 3: 441 ns per loop\n"
     ]
    }
   ],
   "source": [
    "%%timeit\n",
    "def test(a, b):\n",
    "    return a + b\n",
    "\n",
    "test(100, 5)"
   ]
  }
 ],
 "metadata": {
  "kernelspec": {
   "display_name": "Python 2",
   "language": "python",
   "name": "python2"
  },
  "language_info": {
   "codemirror_mode": {
    "name": "ipython",
    "version": 2
   },
   "file_extension": ".py",
   "mimetype": "text/x-python",
   "name": "python",
   "nbconvert_exporter": "python",
   "pygments_lexer": "ipython2",
   "version": "2.7.14"
  }
 },
 "nbformat": 4,
 "nbformat_minor": 2
}

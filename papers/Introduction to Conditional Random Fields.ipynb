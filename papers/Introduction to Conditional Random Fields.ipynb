{
 "cells": [
  {
   "cell_type": "markdown",
   "metadata": {},
   "source": [
    "## [Blog Post](http://blog.echen.me/2012/01/03/introduction-to-conditional-random-fields/)\n",
    "## [Paper](https://arxiv.org/pdf/1011.4088v1.pdf)"
   ]
  },
  {
   "cell_type": "markdown",
   "metadata": {},
   "source": [
    "- Using PoS (Part-of-Speech) taggers for application example\n",
    "- CRF (Conditional Random Field) seems like just a feature engineering method to generate binary features based on some global features (sentence), and local features (current word, previous word, next word).\n",
    "    - Looking at some specific quirks about those features and then come up with certain heurisitc "
   ]
  }
 ],
 "metadata": {
  "kernelspec": {
   "display_name": "Python 3 (Anaconda)",
   "language": "python",
   "name": "python3"
  },
  "language_info": {
   "codemirror_mode": {
    "name": "ipython",
    "version": 3
   },
   "file_extension": ".py",
   "mimetype": "text/x-python",
   "name": "python",
   "nbconvert_exporter": "python",
   "pygments_lexer": "ipython3",
   "version": "3.5.3"
  }
 },
 "nbformat": 4,
 "nbformat_minor": 2
}

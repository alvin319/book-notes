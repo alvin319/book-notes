{
 "cells": [
  {
   "cell_type": "code",
   "execution_count": null,
   "metadata": {
    "collapsed": true
   },
   "outputs": [],
   "source": [
    "# Distributed Representations of Words and Phrases and their Compositionality\n",
    "# https://arxiv.org/abs/1310.4546\n",
    "# Author: Tomas Mikolov"
   ]
  },
  {
   "cell_type": "markdown",
   "metadata": {
    "collapsed": true
   },
   "source": [
    "### Page 1\n",
    "- Skip-gram is an efficient method for learning vector representations\n",
    "- Word2vec offers an extension to improve the method by the following\n",
    "    - Subsampling frequent words => increase speed up\n",
    "    - Negative sampling\n",
    "- Distributed representation helps NLP by grouping similar words\n",
    "- Mikolov also introduced skip-gram model\n",
    "    - Not requiring dense matrix multplication\n",
    "    - Single machine with 100 billion words in 1 day\n",
    "- Example\n",
    "    - \"Madrid\" - \"Spain\" + \"France = \"Paris\""
   ]
  },
  {
   "cell_type": "markdown",
   "metadata": {},
   "source": [
    "### Page 2\n",
    "- Subsampling frequents words => 2x ~ 10x speed up + accuracy improvement\n",
    "- Simplified varaint of Noise Contrastive Estimation (NCE) => faster training + better vector representaiton for frequent words\n",
    "    - In comparison to more complex hierarchical softmax\n",
    "- Word representation doesn't work well with idiomatic phrases\n",
    "    - So just use word vectors to represent phrases tend to work pretty well\n",
    "    - Find a bunch of phrases\n",
    "    - Treat the phrases as individual tokens"
   ]
  }
 ],
 "metadata": {
  "kernelspec": {
   "display_name": "Python 3 (Anaconda)",
   "language": "python",
   "name": "python3"
  },
  "language_info": {
   "codemirror_mode": {
    "name": "ipython",
    "version": 3
   },
   "file_extension": ".py",
   "mimetype": "text/x-python",
   "name": "python",
   "nbconvert_exporter": "python",
   "pygments_lexer": "ipython3",
   "version": "3.5.3"
  }
 },
 "nbformat": 4,
 "nbformat_minor": 0
}

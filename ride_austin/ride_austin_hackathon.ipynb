{
 "cells": [
  {
   "cell_type": "code",
   "execution_count": 72,
   "metadata": {
    "collapsed": true
   },
   "outputs": [],
   "source": [
    "import pandas as pd\n",
    "import datadotworld as dw\n",
    "import seaborn as sns\n",
    "from datetime import date\n",
    "\n",
    "%matplotlib inline"
   ]
  },
  {
   "cell_type": "code",
   "execution_count": 3,
   "metadata": {
    "collapsed": false,
    "scrolled": false
   },
   "outputs": [],
   "source": [
    "# weather_ds = dw.load_dataset('ride-austin/austin-weather-june-2-2016-april-13-2017')\n",
    "# ride_first_ds = dw.load_dataset('ride-austin/ride-austin-june-6-april-13')\n",
    "# ride_second_ds = dw.load_dataset('ride-austin-june-6-april-13-part-2')"
   ]
  },
  {
   "cell_type": "code",
   "execution_count": 10,
   "metadata": {
    "collapsed": false
   },
   "outputs": [],
   "source": [
    "weather_df = pd.read_csv('Weather_Data.csv', index_col=0)\n",
    "ride_data_first_df = pd.read_csv('Rides_DataA.csv', index_col=0)\n",
    "ride_data_second_df = pd.read_csv('Rides_DataB.csv', index_col=0)\n",
    "joined_df = weather_df.join(ride_data_first_df).join(ride_data_second_df)"
   ]
  },
  {
   "cell_type": "code",
   "execution_count": 38,
   "metadata": {
    "collapsed": false
   },
   "outputs": [],
   "source": [
    "joined_df[:len(joined_df) / 2].to_csv('merged_ride_weather_data_part_1.csv', index=False)\n",
    "joined_df[len(joined_df) / 2:].to_csv('merged_ride_weather_data_part_2.csv', index=False)"
   ]
  },
  {
   "cell_type": "code",
   "execution_count": 101,
   "metadata": {
    "collapsed": false
   },
   "outputs": [
    {
     "data": {
      "text/plain": [
       "'2016-06-04 00:10:19-05:00'"
      ]
     },
     "execution_count": 101,
     "metadata": {},
     "output_type": "execute_result"
    }
   ],
   "source": [
    "joined_df['created_date'][0]"
   ]
  },
  {
   "cell_type": "code",
   "execution_count": 44,
   "metadata": {
    "collapsed": false
   },
   "outputs": [
    {
     "data": {
      "text/plain": [
       "array(['HOURLYVISIBILITY', 'HOURLYDRYBULBTEMPC', 'HOURLYRelativeHumidity',\n",
       "       'HOURLYWindSpeed', 'HOURLYWindDirection', 'HOURLYPrecip',\n",
       "       'DAILYMaximumDryBulbTemp', 'DAILYMinimumDryBulbTemp',\n",
       "       'DAILYDeptFromNormalAverageTemp', 'DAILYAverageRelativeHumidity',\n",
       "       'DAILYSunrise', 'DAILYSunset', 'DAILYPrecip',\n",
       "       'DAILYAverageWindSpeed', 'DAILYPeakWindSpeed', 'started_on',\n",
       "       'created_date', 'updated_date', 'completed_on',\n",
       "       'distance_travelled', 'end_location_lat', 'end_location_long',\n",
       "       'driver_rating', 'rider_rating', 'active_driver_id', 'charity_id',\n",
       "       'requested_car_category', 'free_credit_used', 'surge_factor',\n",
       "       'start_location_long', 'start_location_lat', 'rider_id',\n",
       "       'round_up_amount', 'promocode_redemption_id', 'driver_reached_on',\n",
       "       'base_fare', 'total_fare', 'rate_per_mile', 'rate_per_minute',\n",
       "       'time_fare', 'driver_accepted_on', 'esimtated_time_arrive',\n",
       "       'tipped_on', 'tip', 'driving_time_to_rider',\n",
       "       'dispatch_location_lat', 'dispatch_location_long',\n",
       "       'driving_distance_to_rider', 'dispatched_on', 'status', 'driver_id',\n",
       "       'car_id', 'color', 'make', 'model', 'year',\n",
       "       'car_categories_bitmask', 'rating'], dtype=object)"
      ]
     },
     "execution_count": 44,
     "metadata": {},
     "output_type": "execute_result"
    }
   ],
   "source": [
    "joined_df.columns.values"
   ]
  },
  {
   "cell_type": "code",
   "execution_count": 95,
   "metadata": {
    "collapsed": true
   },
   "outputs": [],
   "source": [
    "def get_time_format(time):\n",
    "    info = time.split(' ')\n",
    "    year, month, day = map(int, info[0].split('-'))\n",
    "    return date(year, month, day)\n",
    "\n",
    "def get_first_time(row):\n",
    "    register_date = row['created_date']\n",
    "    first_date = row['completed_on']\n",
    "    r_date = get_time_format(register_date)\n",
    "    f_date = get_time_format(first_date)\n",
    "    return 1"
   ]
  },
  {
   "cell_type": "code",
   "execution_count": 107,
   "metadata": {
    "collapsed": false
   },
   "outputs": [],
   "source": [
    "joined_df['get_first_time'] = joined_df.apply(lambda row: get_first_time(row), axis=1)"
   ]
  },
  {
   "cell_type": "code",
   "execution_count": 111,
   "metadata": {
    "collapsed": false
   },
   "outputs": [
    {
     "data": {
      "text/plain": [
       "1494125"
      ]
     },
     "execution_count": 111,
     "metadata": {},
     "output_type": "execute_result"
    }
   ],
   "source": [
    "joined_df['get_first_time']"
   ]
  }
 ],
 "metadata": {
  "anaconda-cloud": {},
  "kernelspec": {
   "display_name": "Python [conda root]",
   "language": "python",
   "name": "conda-root-py"
  },
  "language_info": {
   "codemirror_mode": {
    "name": "ipython",
    "version": 2
   },
   "file_extension": ".py",
   "mimetype": "text/x-python",
   "name": "python",
   "nbconvert_exporter": "python",
   "pygments_lexer": "ipython2",
   "version": "2.7.12"
  }
 },
 "nbformat": 4,
 "nbformat_minor": 1
}

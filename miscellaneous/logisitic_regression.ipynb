{
 "cells": [
  {
   "cell_type": "code",
   "execution_count": 130,
   "metadata": {
    "collapsed": true
   },
   "outputs": [],
   "source": [
    "import numpy as np\n",
    "import matplotlib.pyplot as plt\n",
    "import pandas as pd\n",
    "\n",
    "%matplotlib inline"
   ]
  },
  {
   "cell_type": "code",
   "execution_count": 15,
   "metadata": {
    "collapsed": false
   },
   "outputs": [
    {
     "name": "stdout",
     "output_type": "stream",
     "text": [
      "Sigmoid: [ -1.19282436e+00  -1.84455345e-01  -9.37863200e-01  -9.52958239e-04\n",
      "  -2.17768142e+00  -8.88110709e-01  -1.51669183e+00  -1.76156490e+00\n",
      "  -1.11439414e+00  -1.96025539e+00  -3.15848092e-01   3.67120132e-01\n",
      "  -8.09392956e-01   6.11667081e-01  -9.30527563e-01   2.89741889e-01\n",
      "  -4.29859902e-01  -8.07418894e-01  -1.54909904e+00  -1.85162318e+00\n",
      "  -7.23936926e-01  -7.06326468e-01  -1.44155888e+00  -2.10956781e+00\n",
      "  -1.42441942e+00  -4.06012578e-03  -3.26950605e-02  -1.22207105e+00\n",
      "  -1.48680647e+00  -1.09016959e-01   1.25419756e-01  -6.81099444e-01\n",
      "   5.37776847e-01   6.03987890e-01  -1.23637236e+00  -7.10574601e-01\n",
      "  -8.59477023e-01  -7.06411661e-01   6.11439265e-01  -6.55724641e-01\n",
      "  -4.90590211e-01  -8.66382604e-01  -1.96764156e+00  -8.10544401e-01\n",
      "  -1.13083375e+00   2.51067061e-01  -2.82806602e-02  -1.23085118e+00\n",
      "  -5.10513877e-01  -9.90836312e-01  -2.69338001e+00  -1.60907581e+00\n",
      "  -1.08060322e+00  -6.88942893e-01  -3.44691832e-01  -6.79911890e-01\n",
      "  -6.64352967e-01  -5.29802195e-01  -1.18473998e+00  -5.53427429e-01\n",
      "  -3.44977854e-01   5.01511895e-01   6.75660822e-06  -1.32304999e+00\n",
      "  -8.78138852e-01  -4.83503935e-02  -9.54226279e-01  -2.46529088e+00\n",
      "  -3.06045628e-01   5.62705982e-01  -3.60488462e-01  -3.38878825e-01\n",
      "  -3.21015224e-02   2.57633247e-01  -1.51455218e+00  -6.91249424e-01\n",
      "  -1.39514759e+00  -8.07837855e-01  -1.34946616e+00  -1.02391960e-01\n",
      "  -1.68222100e+00  -9.10009244e-01  -3.14297424e-01  -8.16211907e-01\n",
      "  -2.05497727e+00  -2.12913838e-01  -1.20816560e+00  -2.27898878e+00\n",
      "  -1.34014371e+00   6.71320845e-02  -1.85313733e+00  -1.98557962e+00\n",
      "  -6.85364952e-01  -4.35119449e-01  -1.36935205e-02  -1.25532332e+00\n",
      "  -8.58865435e-01  -1.58482788e+00   1.59022729e+00  -7.78543437e-01]\n"
     ]
    }
   ],
   "source": [
    "N = 100\n",
    "D = 2\n",
    "\n",
    "X = np.random.randn(N, D)\n",
    "bias = np.array([[1] * N]).T\n",
    "Xb = np.concatenate((bias, X), axis=1)\n",
    "weights = np.random.randn(D + 1)\n",
    "z = Xb.dot(weights)\n",
    "\n",
    "def sigmoid(z):\n",
    "    return 1 / (1 * np.exp(-z))\n",
    "\n",
    "print ('Sigmoid: {}'.format(z))"
   ]
  },
  {
   "cell_type": "code",
   "execution_count": 50,
   "metadata": {
    "collapsed": false
   },
   "outputs": [],
   "source": [
    "# eCommerce project\n",
    "\n",
    "def get_data():\n",
    "    \"\"\"\n",
    "    Reading in the CSV file, and then proceed to perform \n",
    "    normalization on some variables and one-hot encoding\n",
    "    on some features\n",
    "    \"\"\"\n",
    "    df = pd.read_csv('ecommerce_data.csv')\n",
    "    data = df.as_matrix()\n",
    "    \n",
    "    X = data[:, :-1]\n",
    "    Y = data[:, -1]\n",
    "    print(df.columns)\n",
    "    \n",
    "    # Normalization on products viewed and visit duration\n",
    "    X[:, 1] = (X[:, 1] - np.average(X[:, 1])) / np.std(X[:, 1])\n",
    "    X[:, 2] = (X[:, 2] - np.average(X[:, 2])) / np.std(X[:, 2])\n",
    "    \n",
    "    # Handling categorical value (time of day)\n",
    "    N, D = X.shape\n",
    "    new_X = np.zeros((N, D + 3))\n",
    "    new_X[:, 0:(D - 1)] = X[:, 0:(D - 1)]\n",
    "    \n",
    "    for n in range(N):\n",
    "        t = int(X[n, D - 1])\n",
    "        new_X[n, t + D - 1] = 1\n",
    "        \n",
    "    return new_X, Y\n",
    "\n",
    "def get_binary_data():\n",
    "    X, Y = get_data()\n",
    "    X2 = X[Y <= 1]\n",
    "    Y2 = Y[Y <= 1]\n",
    "    return X2, Y2"
   ]
  },
  {
   "cell_type": "code",
   "execution_count": 83,
   "metadata": {
    "collapsed": false
   },
   "outputs": [
    {
     "name": "stdout",
     "output_type": "stream",
     "text": [
      "Index(['is_mobile', 'n_products_viewed', 'visit_duration',\n",
      "       'is_returning_visitor', 'time_of_day', 'user_action'],\n",
      "      dtype='object')\n",
      "Score: 0.6331658291457286\n"
     ]
    }
   ],
   "source": [
    "X, Y = get_binary_data()\n",
    "\n",
    "dimension = X.shape[1]\n",
    "weights = np.random.randn(dimension)\n",
    "bias = 0\n",
    "\n",
    "def sigmoid(x):\n",
    "    return 1 / (1 + np.exp(-x))\n",
    "\n",
    "def forward(X, weights, bias):\n",
    "    return sigmoid(X.dot(weights) + bias)\n",
    "\n",
    "prob_y_given_x = forward(X, weights, bias)\n",
    "predictions = np.round(prob_y_given_x)\n",
    "\n",
    "def error_rate(predicted, actual):\n",
    "    return np.mean(predicted == actual)\n",
    "\n",
    "print('Score: {}'.format(error_rate(predictions, Y)))"
   ]
  },
  {
   "cell_type": "code",
   "execution_count": 127,
   "metadata": {
    "collapsed": false
   },
   "outputs": [
    {
     "data": {
      "text/plain": [
       "92.465898895446045"
      ]
     },
     "execution_count": 127,
     "metadata": {},
     "output_type": "execute_result"
    }
   ],
   "source": [
    "# Cross-entropy\n",
    "N = 100\n",
    "D = 2\n",
    "\n",
    "np.random.seed(40)\n",
    "\n",
    "X = np.random.randn(N, D)\n",
    "X[:50, :] = X[:50, :] - 2 * np.ones((50, D))\n",
    "X[50:, :] = X[50:, :] + 2 * np.ones((50, D))\n",
    "\n",
    "T = np.array([0] * 50 + [1] * 50)\n",
    "\n",
    "ones = np.array([[1] * N]).T\n",
    "Xb = np.concatenate((ones, X), axis=1)\n",
    "\n",
    "weights = np.random.randn(D + 1)\n",
    "z = Xb.dot(weights)\n",
    "\n",
    "Y = sigmoid(z)\n",
    "\n",
    "def cross_entropy_error(actual, predicted):\n",
    "    total_error = 0\n",
    "    for i in range(N):\n",
    "        if actual[i] == 1:\n",
    "            total_error -= np.log(predicted[i])\n",
    "        else:\n",
    "            total_error -= np.log(1 - predicted[i])\n",
    "    return total_error\n",
    "\n",
    "cross_entropy_error(T, Y)"
   ]
  },
  {
   "cell_type": "code",
   "execution_count": 129,
   "metadata": {
    "collapsed": false
   },
   "outputs": [
    {
     "data": {
      "text/plain": [
       "0.094873631707782333"
      ]
     },
     "execution_count": 129,
     "metadata": {},
     "output_type": "execute_result"
    }
   ],
   "source": [
    "weights = np.array([0, 4, 4])\n",
    "z = Xb.dot(weights)\n",
    "Y = sigmoid(z)\n",
    "\n",
    "cross_entropy_error(T, Y)"
   ]
  },
  {
   "cell_type": "code",
   "execution_count": 137,
   "metadata": {
    "collapsed": false
   },
   "outputs": [
    {
     "data": {
      "text/plain": [
       "[<matplotlib.lines.Line2D at 0x113e94128>]"
      ]
     },
     "execution_count": 137,
     "metadata": {},
     "output_type": "execute_result"
    },
    {
     "data": {
      "image/png": "[encoded data removed]",
      "text/plain": [
       "<matplotlib.figure.Figure at 0x113e94208>"
      ]
     },
     "metadata": {},
     "output_type": "display_data"
    }
   ],
   "source": [
    "plt.scatter(X[:,0], X[:,1], c=T, s=100, alpha=0.5)\n",
    "x_axis = np.linspace(-6, 6, 100)\n",
    "y_axis = -x_axis\n",
    "plt.plot(x_axis, y_axis)"
   ]
  },
  {
   "cell_type": "code",
   "execution_count": 151,
   "metadata": {
    "collapsed": false
   },
   "outputs": [
    {
     "name": "stdout",
     "output_type": "stream",
     "text": [
      "66.6911544109\n",
      "0.00666258370558\n",
      "0.00660099894504\n",
      "0.006540539757\n",
      "0.0064811756239\n",
      "0.00642287711995\n",
      "0.00636561586276\n",
      "0.00630936446757\n",
      "0.00625409650386\n",
      "0.00619978645419\n",
      "Final weight: [ 0.24572282  9.35686657  9.88770478]\n"
     ]
    }
   ],
   "source": [
    "# Batch gradient descent\n",
    "N = 100\n",
    "D = 2\n",
    "\n",
    "X = np.random.randn(N, D)\n",
    "X[:50, :] = X[:50, :] - 2 * np.ones((50, D))\n",
    "X[50:, :] = X[50:, :] + 2 * np.ones((50, D))\n",
    "\n",
    "T = np.array([0] * 50 + [1] * 50)\n",
    "\n",
    "ones = np.array([[1] * N]).T\n",
    "Xb = np.concatenate((ones, X), axis=1)\n",
    "\n",
    "weights = np.random.randn(D + 1)\n",
    "z = Xb.dot(weights)\n",
    "\n",
    "Y = sigmoid(z)\n",
    "\n",
    "learning_rate = 0.1\n",
    "\n",
    "for _ in range(100):\n",
    "    if _ % 10 == 0:\n",
    "        print(cross_entropy_error(T, Y))\n",
    "    weights += learning_rate * Xb.T.dot(T - Y)\n",
    "    Y = sigmoid(Xb.dot(weights))\n",
    "    \n",
    "print('Final weight: {}'.format(weights))"
   ]
  },
  {
   "cell_type": "code",
   "execution_count": 173,
   "metadata": {
    "collapsed": false
   },
   "outputs": [
    {
     "name": "stdout",
     "output_type": "stream",
     "text": [
      "Index(['is_mobile', 'n_products_viewed', 'visit_duration',\n",
      "       'is_returning_visitor', 'time_of_day', 'user_action'],\n",
      "      dtype='object')\n",
      "iteration 0 train cost 1.2512381427914658 test cost 1.267510837849274\n",
      "iteration 1000 train cost 0.163615985809597 test cost 0.21707728959307138\n",
      "iteration 2000 train cost 0.1599163444374833 test cost 0.21343387207765857\n",
      "iteration 3000 train cost 0.1593403158487249 test cost 0.2130797833292594\n",
      "iteration 4000 train cost 0.15921933985036626 test cost 0.21310168610456257\n",
      "iteration 5000 train cost 0.15919104417710866 test cost 0.21315195154066185\n",
      "iteration 6000 train cost 0.1591841036002997 test cost 0.21318618188454574\n",
      "iteration 7000 train cost 0.1591823622211032 test cost 0.21320561454848047\n",
      "iteration 8000 train cost 0.15918192043123724 test cost 0.21321597406227316\n",
      "iteration 9000 train cost 0.15918180772586793 test cost 0.2132213508569195\n",
      "Final training accuracy: 0.9748743718592965\n",
      "Final test accuracy: 0.9698492462311558\n"
     ]
    },
    {
     "data": {
      "text/plain": [
       "<matplotlib.legend.Legend at 0x115eaae80>"
      ]
     },
     "execution_count": 173,
     "metadata": {},
     "output_type": "execute_result"
    },
    {
     "data": {
      "image/png": "[encoded data removed]",
      "text/plain": [
       "<matplotlib.figure.Figure at 0x113f330f0>"
      ]
     },
     "metadata": {},
     "output_type": "display_data"
    }
   ],
   "source": [
    "from sklearn.utils import shuffle\n",
    "from sklearn.model_selection import train_test_split\n",
    "\n",
    "X, Y = get_binary_data()\n",
    "X, Y = shuffle(X, Y)\n",
    "\n",
    "X_train, X_test, y_train, y_test = train_test_split(X, Y, test_size=0.5, random_state=40)\n",
    "\n",
    "D = X.shape[1]\n",
    "weights = np.random.randn(D)\n",
    "bias = 0\n",
    "\n",
    "def cross_entropy(actual, prob_Y):\n",
    "    return -np.mean(actual * np.log(prob_Y) + (1 - actual) * np.log(1 - prob_Y))\n",
    "\n",
    "train_cost_list = []\n",
    "test_cost_list = []\n",
    "learning_rate = 0.001\n",
    "\n",
    "for _ in range(10000):\n",
    "    train_prediction = forward(X_train, weights, bias)\n",
    "    test_prediction = forward(X_test, weights, bias)\n",
    "    \n",
    "    train_cost = cross_entropy(y_train, train_prediction)\n",
    "    test_cost = cross_entropy(y_test, test_prediction)\n",
    "    \n",
    "    train_cost_list.append(train_cost)\n",
    "    test_cost_list.append(test_cost)\n",
    "    \n",
    "    weights -= learning_rate * X_train.T.dot(train_prediction - y_train)\n",
    "    bias -= learning_rate * (train_prediction - y_train).sum()\n",
    "    \n",
    "    if _ % 1000 == 0:\n",
    "        print('iteration {} train cost {} test cost {}'.format(_, train_cost, test_cost))\n",
    "\n",
    "print('Final training accuracy: {}'.format(error_rate(np.round(train_prediction), y_train)))\n",
    "print('Final test accuracy: {}'.format(error_rate(np.round(test_prediction), y_test)))\n",
    "\n",
    "plt.plot(train_cost_list, label='train cost')\n",
    "plt.plot(test_cost_list, label='test cost')\n",
    "plt.legend()"
   ]
  }
 ],
 "metadata": {
  "anaconda-cloud": {},
  "kernelspec": {
   "display_name": "Python 3",
   "language": "python",
   "name": "python3"
  },
  "language_info": {
   "codemirror_mode": {
    "name": "ipython",
    "version": 3
   },
   "file_extension": ".py",
   "mimetype": "text/x-python",
   "name": "python",
   "nbconvert_exporter": "python",
   "pygments_lexer": "ipython3",
   "version": "3.6.0"
  }
 },
 "nbformat": 4,
 "nbformat_minor": 1
}

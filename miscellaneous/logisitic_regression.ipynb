{
 "cells": [
  {
   "cell_type": "code",
   "execution_count": 1,
   "metadata": {
    "collapsed": true
   },
   "outputs": [],
   "source": [
    "import numpy as np\n",
    "import matplotlib.pyplot as plt"
   ]
  },
  {
   "cell_type": "code",
   "execution_count": 33,
   "metadata": {
    "collapsed": false
   },
   "outputs": [
    {
     "name": "stdout",
     "output_type": "stream",
     "text": [
      "Sigmoid: [ 1.04102871  2.04709648  2.33707913  0.55756594  0.45741509  1.5758571\n",
      "  2.79016199  1.18199934  0.42833274  0.22178852 -1.32072137  2.05448581\n",
      " -1.41888881  0.71978869  2.14555462  0.66295033  0.39446304  0.39599251\n",
      "  1.3445902  -0.03684339  0.68357097  1.22613842 -0.1823525   1.09751743\n",
      "  1.59312002  1.7125844   0.99661396  0.73441374  1.33497255  1.21768126\n",
      " -1.04306904  2.5345143   1.96480507  0.9691752   3.23471835 -0.06545783\n",
      " -0.42642446  1.44926281  0.09698945  1.86716141  1.28915807 -0.1170221\n",
      "  1.98453489  2.70916654  1.68527591  0.21639364  1.69254031  2.69212425\n",
      "  2.27596503  1.79156735  0.66525777 -0.69466765  1.49520816  2.37455308\n",
      "  2.22323217  1.29350186  2.15902351  1.08137784  1.7327742   0.36598591\n",
      "  0.09942242  2.81668959  0.71651064  2.15611782  0.26850782  1.67159295\n",
      "  0.41563193  1.25350526  1.8172277   1.01609378  0.07087193  1.82002366\n",
      "  2.38445095 -0.57335015 -0.15765377  2.07724727  3.65168507  1.20672734\n",
      "  1.17842646  1.02203588  1.2395852   1.89475451  0.70899169  1.76777298\n",
      "  1.39921404 -0.90115408 -0.05411286  1.18596705  0.42811311  1.63982536\n",
      "  2.37328689  1.63566823  0.17645643  0.82166693  1.22830739  0.89284063\n",
      "  1.55497852  2.01348683  1.82101773  1.17468413]\n"
     ]
    }
   ],
   "source": [
    "N = 100\n",
    "D = 2\n",
    "\n",
    "X = np.random.randn(N, D)\n",
    "bias = np.array([[1] * N]).T\n",
    "Xb = np.concatenate((bias, X), axis=1)\n",
    "weights = np.random.randn(D + 1)\n",
    "z = Xb.dot(weights)\n",
    "\n",
    "def sigmoid(z):\n",
    "    return 1 / (1 * np.exp(-z))\n",
    "\n",
    "print ('Sigmoid: {}'.format(z))"
   ]
  }
 ],
 "metadata": {
  "anaconda-cloud": {},
  "kernelspec": {
   "display_name": "Python [conda root]",
   "language": "python",
   "name": "conda-root-py"
  },
  "language_info": {
   "codemirror_mode": {
    "name": "ipython",
    "version": 2
   },
   "file_extension": ".py",
   "mimetype": "text/x-python",
   "name": "python",
   "nbconvert_exporter": "python",
   "pygments_lexer": "ipython2",
   "version": "2.7.12"
  }
 },
 "nbformat": 4,
 "nbformat_minor": 1
}

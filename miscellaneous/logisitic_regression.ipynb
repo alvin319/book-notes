{
 "cells": [
  {
   "cell_type": "code",
   "execution_count": 1,
   "metadata": {},
   "outputs": [],
   "source": [
    "import numpy as np\n",
    "import matplotlib.pyplot as plt\n",
    "import pandas as pd\n",
    "\n",
    "%matplotlib inline"
   ]
  },
  {
   "cell_type": "code",
   "execution_count": 2,
   "metadata": {},
   "outputs": [
    {
     "name": "stdout",
     "output_type": "stream",
     "text": [
      "Sigmoid: [  1.53516519e+00   3.39949051e+00   1.08591604e+00  -1.20401978e+00\n",
      "   3.46871369e+00   1.95968000e+00  -8.91709911e-02   1.67680768e+00\n",
      "   8.61625339e-01   6.68141551e-01   4.21403824e-01   1.28147250e+00\n",
      "   2.24511416e+00   4.04190559e-01   1.47152493e+00  -1.29601912e+00\n",
      "   1.79028145e+00   1.19921087e-04  -1.72431688e-01   6.46328878e-01\n",
      "   7.47996282e-02   1.27648721e+00   1.78605226e+00   1.26411383e+00\n",
      "   8.35146273e-01  -1.06495880e+00   7.54577241e-01   2.54207673e+00\n",
      "   3.38956636e+00   4.05524942e-01   6.61200098e-01  -2.19294214e-01\n",
      "   2.60469273e+00   8.77818693e-01   1.96951205e+00   3.23140328e-01\n",
      "  -2.00886533e-01  -2.00346126e+00   5.25557059e+00   5.27633705e-01\n",
      "   1.66354683e+00   9.53966749e-01   1.38903490e+00   1.96223292e+00\n",
      "  -9.11280153e-01   7.55969105e+00  -2.75493234e+00   2.08480463e+00\n",
      "   9.72218248e-01   2.82616688e+00   2.07529411e+00  -1.80560210e-01\n",
      "  -4.74519215e-01   2.35761250e+00  -4.51405567e-01   7.00104883e-01\n",
      "   1.41923003e+00   2.72462226e+00  -4.16017905e-01  -3.39576302e-01\n",
      "   2.64801023e+00  -2.34207478e+00   1.23620126e+00   8.69950321e-01\n",
      "  -5.25493184e-01   2.62316184e+00   1.01741253e+00   3.52242389e-01\n",
      "   1.19781104e-01  -3.01232890e-03   1.75672552e+00  -2.86106412e-01\n",
      "   1.55569872e+00  -1.03525105e+00  -1.32940183e-01  -7.98744684e-01\n",
      "   1.40883705e+00  -6.60793494e-01   2.84064717e+00   2.22456424e+00\n",
      "   2.92886366e+00   2.41734076e+00   2.62394095e+00   9.81157525e-01\n",
      "   2.52417046e+00   2.83137196e-02   2.08927351e+00  -2.15856015e+00\n",
      "  -1.23987806e+00   1.33584700e+00   3.33646204e-01   3.07653268e+00\n",
      "   2.71398311e+00   3.19064904e+00   2.22946455e+00   6.77133761e-01\n",
      "   1.57198533e+00   1.32719401e+00   2.09928791e-01  -3.28229270e-01]\n"
     ]
    }
   ],
   "source": [
    "N = 100\n",
    "D = 2\n",
    "\n",
    "X = np.random.randn(N, D)\n",
    "bias = np.array([[1] * N]).T\n",
    "Xb = np.concatenate((bias, X), axis=1)\n",
    "weights = np.random.randn(D + 1)\n",
    "z = Xb.dot(weights)\n",
    "\n",
    "def sigmoid(z):\n",
    "    return 1 / (1 * np.exp(-z))\n",
    "\n",
    "print ('Sigmoid: {}'.format(z))"
   ]
  },
  {
   "cell_type": "code",
   "execution_count": 3,
   "metadata": {
    "collapsed": true
   },
   "outputs": [],
   "source": [
    "# eCommerce project\n",
    "\n",
    "def get_data():\n",
    "    \"\"\"\n",
    "    Reading in the CSV file, and then proceed to perform \n",
    "    normalization on some variables and one-hot encoding\n",
    "    on some features\n",
    "    \"\"\"\n",
    "    df = pd.read_csv('ecommerce_data.csv')\n",
    "    data = df.as_matrix()\n",
    "    \n",
    "    X = data[:, :-1]\n",
    "    Y = data[:, -1]\n",
    "    print(df.columns)\n",
    "    \n",
    "    # Normalization on products viewed and visit duration\n",
    "    X[:, 1] = (X[:, 1] - np.average(X[:, 1])) / np.std(X[:, 1])\n",
    "    X[:, 2] = (X[:, 2] - np.average(X[:, 2])) / np.std(X[:, 2])\n",
    "    \n",
    "    # Handling categorical value (time of day)\n",
    "    N, D = X.shape\n",
    "    new_X = np.zeros((N, D + 3))\n",
    "    new_X[:, 0:(D - 1)] = X[:, 0:(D - 1)]\n",
    "    \n",
    "    for n in range(N):\n",
    "        t = int(X[n, D - 1])\n",
    "        new_X[n, t + D - 1] = 1\n",
    "        \n",
    "    return new_X, Y\n",
    "\n",
    "def get_binary_data():\n",
    "    X, Y = get_data()\n",
    "    X2 = X[Y <= 1]\n",
    "    Y2 = Y[Y <= 1]\n",
    "    return X2, Y2"
   ]
  },
  {
   "cell_type": "code",
   "execution_count": 4,
   "metadata": {},
   "outputs": [
    {
     "name": "stdout",
     "output_type": "stream",
     "text": [
      "Index([u'is_mobile', u'n_products_viewed', u'visit_duration',\n",
      "       u'is_returning_visitor', u'time_of_day', u'user_action'],\n",
      "      dtype='object')\n",
      "Score: 0.658291457286\n"
     ]
    }
   ],
   "source": [
    "X, Y = get_binary_data()\n",
    "\n",
    "dimension = X.shape[1]\n",
    "weights = np.random.randn(dimension)\n",
    "bias = 0\n",
    "\n",
    "def sigmoid(x):\n",
    "    return 1 / (1 + np.exp(-x))\n",
    "\n",
    "def forward(X, weights, bias):\n",
    "    return sigmoid(X.dot(weights) + bias)\n",
    "\n",
    "prob_y_given_x = forward(X, weights, bias)\n",
    "predictions = np.round(prob_y_given_x)\n",
    "\n",
    "def error_rate(predicted, actual):\n",
    "    return np.mean(predicted == actual)\n",
    "\n",
    "print('Score: {}'.format(error_rate(predictions, Y)))"
   ]
  },
  {
   "cell_type": "code",
   "execution_count": 5,
   "metadata": {},
   "outputs": [
    {
     "data": {
      "text/plain": [
       "92.465898895446045"
      ]
     },
     "execution_count": 5,
     "metadata": {},
     "output_type": "execute_result"
    }
   ],
   "source": [
    "# Cross-entropy\n",
    "N = 100\n",
    "D = 2\n",
    "\n",
    "np.random.seed(40)\n",
    "\n",
    "X = np.random.randn(N, D)\n",
    "X[:50, :] = X[:50, :] - 2 * np.ones((50, D))\n",
    "X[50:, :] = X[50:, :] + 2 * np.ones((50, D))\n",
    "\n",
    "T = np.array([0] * 50 + [1] * 50)\n",
    "\n",
    "ones = np.array([[1] * N]).T\n",
    "Xb = np.concatenate((ones, X), axis=1)\n",
    "\n",
    "weights = np.random.randn(D + 1)\n",
    "z = Xb.dot(weights)\n",
    "\n",
    "Y = sigmoid(z)\n",
    "\n",
    "def cross_entropy_error(actual, predicted):\n",
    "    total_error = 0\n",
    "    for i in range(N):\n",
    "        if actual[i] == 1:\n",
    "            total_error -= np.log(predicted[i])\n",
    "        else:\n",
    "            total_error -= np.log(1 - predicted[i])\n",
    "    return total_error\n",
    "\n",
    "cross_entropy_error(T, Y)"
   ]
  },
  {
   "cell_type": "code",
   "execution_count": 6,
   "metadata": {},
   "outputs": [
    {
     "data": {
      "text/plain": [
       "0.094873631707782333"
      ]
     },
     "execution_count": 6,
     "metadata": {},
     "output_type": "execute_result"
    }
   ],
   "source": [
    "weights = np.array([0, 4, 4])\n",
    "z = Xb.dot(weights)\n",
    "Y = sigmoid(z)\n",
    "\n",
    "cross_entropy_error(T, Y)"
   ]
  },
  {
   "cell_type": "code",
   "execution_count": 7,
   "metadata": {},
   "outputs": [
    {
     "data": {
      "text/plain": [
       "[<matplotlib.lines.Line2D at 0x1146c0e10>]"
      ]
     },
     "execution_count": 7,
     "metadata": {},
     "output_type": "execute_result"
    },
    {
     "data": {
      "image/png": "[encoded data removed]",
      "text/plain": [
       "<matplotlib.figure.Figure at 0x1146c0e90>"
      ]
     },
     "metadata": {},
     "output_type": "display_data"
    }
   ],
   "source": [
    "plt.scatter(X[:,0], X[:,1], c=T, s=100, alpha=0.5)\n",
    "x_axis = np.linspace(-6, 6, 100)\n",
    "y_axis = -x_axis\n",
    "plt.plot(x_axis, y_axis)"
   ]
  },
  {
   "cell_type": "code",
   "execution_count": 8,
   "metadata": {},
   "outputs": [
    {
     "name": "stdout",
     "output_type": "stream",
     "text": [
      "177.918685405\n",
      "2.06028112936e-06\n",
      "2.06027364599e-06\n",
      "2.06026616252e-06\n",
      "2.06025867894e-06\n",
      "2.06025119535e-06\n",
      "2.06024371188e-06\n",
      "2.0602362284e-06\n",
      "2.06022874504e-06\n",
      "2.0602212619e-06\n",
      "Final weight: [ -0.84027878  11.82857988  12.60348077]\n"
     ]
    }
   ],
   "source": [
    "# Batch gradient descent\n",
    "N = 100\n",
    "D = 2\n",
    "\n",
    "X = np.random.randn(N, D)\n",
    "X[:50, :] = X[:50, :] - 2 * np.ones((50, D))\n",
    "X[50:, :] = X[50:, :] + 2 * np.ones((50, D))\n",
    "\n",
    "T = np.array([0] * 50 + [1] * 50)\n",
    "\n",
    "ones = np.array([[1] * N]).T\n",
    "Xb = np.concatenate((ones, X), axis=1)\n",
    "\n",
    "weights = np.random.randn(D + 1)\n",
    "z = Xb.dot(weights)\n",
    "\n",
    "Y = sigmoid(z)\n",
    "\n",
    "learning_rate = 0.1\n",
    "\n",
    "for _ in range(100):\n",
    "    if _ % 10 == 0:\n",
    "        print(cross_entropy_error(T, Y))\n",
    "    weights += learning_rate * Xb.T.dot(T - Y)\n",
    "    Y = sigmoid(Xb.dot(weights))\n",
    "    \n",
    "print('Final weight: {}'.format(weights))"
   ]
  },
  {
   "cell_type": "code",
   "execution_count": 9,
   "metadata": {},
   "outputs": [
    {
     "name": "stdout",
     "output_type": "stream",
     "text": [
      "Index([u'is_mobile', u'n_products_viewed', u'visit_duration',\n",
      "       u'is_returning_visitor', u'time_of_day', u'user_action'],\n",
      "      dtype='object')\n",
      "iteration 0 train cost 1.05846211401 test cost 0.992389725838\n",
      "iteration 1000 train cost 0.106927450778 test cost 0.268598409929\n",
      "iteration 2000 train cost 0.0973644698491 test cost 0.281620291034\n",
      "iteration 3000 train cost 0.0942508246343 test cost 0.291398968956\n",
      "iteration 4000 train cost 0.0928419772569 test cost 0.298778426931\n",
      "iteration 5000 train cost 0.0921060416328 test cost 0.30448317834\n",
      "iteration 6000 train cost 0.091688636774 test cost 0.308970324796\n",
      "iteration 7000 train cost 0.0914389771481 test cost 0.312545740378\n",
      "iteration 8000 train cost 0.0912840587707 test cost 0.315423213306\n",
      "iteration 9000 train cost 0.091185335356 test cost 0.317757107076\n",
      "Final training accuracy: 0.974874371859\n",
      "Final test accuracy: 0.959798994975\n"
     ]
    },
    {
     "data": {
      "text/plain": [
       "<matplotlib.legend.Legend at 0x1a1e8c9ad0>"
      ]
     },
     "execution_count": 9,
     "metadata": {},
     "output_type": "execute_result"
    },
    {
     "data": {
      "image/png": "[encoded data removed]",
      "text/plain": [
       "<matplotlib.figure.Figure at 0x115a65cd0>"
      ]
     },
     "metadata": {},
     "output_type": "display_data"
    }
   ],
   "source": [
    "from sklearn.utils import shuffle\n",
    "from sklearn.model_selection import train_test_split\n",
    "\n",
    "X, Y = get_binary_data()\n",
    "X, Y = shuffle(X, Y)\n",
    "\n",
    "X_train, X_test, y_train, y_test = train_test_split(X, Y, test_size=0.5, random_state=40)\n",
    "\n",
    "D = X.shape[1]\n",
    "weights = np.random.randn(D)\n",
    "bias = 0\n",
    "\n",
    "def cross_entropy(actual, prob_Y):\n",
    "    return -np.mean(actual * np.log(prob_Y) + (1 - actual) * np.log(1 - prob_Y))\n",
    "\n",
    "train_cost_list = []\n",
    "test_cost_list = []\n",
    "learning_rate = 0.001\n",
    "\n",
    "for _ in range(10000):\n",
    "    train_prediction = forward(X_train, weights, bias)\n",
    "    test_prediction = forward(X_test, weights, bias)\n",
    "    \n",
    "    train_cost = cross_entropy(y_train, train_prediction)\n",
    "    test_cost = cross_entropy(y_test, test_prediction)\n",
    "    \n",
    "    train_cost_list.append(train_cost)\n",
    "    test_cost_list.append(test_cost)\n",
    "    \n",
    "    weights -= learning_rate * X_train.T.dot(train_prediction - y_train)\n",
    "    bias -= learning_rate * (train_prediction - y_train).sum()\n",
    "    \n",
    "    if _ % 1000 == 0:\n",
    "        print('iteration {} train cost {} test cost {}'.format(_, train_cost, test_cost))\n",
    "\n",
    "print('Final training accuracy: {}'.format(error_rate(np.round(train_prediction), y_train)))\n",
    "print('Final test accuracy: {}'.format(error_rate(np.round(test_prediction), y_test)))\n",
    "\n",
    "plt.plot(train_cost_list, label='train cost')\n",
    "plt.plot(test_cost_list, label='test cost')\n",
    "plt.legend()"
   ]
  },
  {
   "cell_type": "code",
   "execution_count": 10,
   "metadata": {},
   "outputs": [
    {
     "name": "stdout",
     "output_type": "stream",
     "text": [
      "71.9938596377\n",
      "8.60523323662\n",
      "6.46285236465\n",
      "4.92260052349\n",
      "4.00344415076\n",
      "3.62197945465\n",
      "3.53237128399\n",
      "3.52965661376\n",
      "3.54445968421\n",
      "3.55873246723\n",
      "Final weight: [ 0.5900398   1.76534898  2.25584749]\n"
     ]
    }
   ],
   "source": [
    "# Batch gradient descent with L2 regularization\n",
    "N = 100\n",
    "D = 2\n",
    "\n",
    "X = np.random.randn(N, D)\n",
    "X[:50, :] = X[:50, :] - 2 * np.ones((50, D))\n",
    "X[50:, :] = X[50:, :] + 2 * np.ones((50, D))\n",
    "\n",
    "T = np.array([0] * 50 + [1] * 50)\n",
    "\n",
    "ones = np.array([[1] * N]).T\n",
    "Xb = np.concatenate((ones, X), axis=1)\n",
    "\n",
    "weights = np.random.randn(D + 1)\n",
    "z = Xb.dot(weights)\n",
    "\n",
    "Y = sigmoid(z)\n",
    "\n",
    "learning_rate = 0.1\n",
    "regularization = 0.1\n",
    "\n",
    "for _ in range(100):\n",
    "    if _ % 10 == 0:\n",
    "        print(cross_entropy_error(T, Y))\n",
    "    weights += learning_rate * (Xb.T.dot(T - Y) - 0.1 * weights)\n",
    "    Y = sigmoid(Xb.dot(weights))\n",
    "    \n",
    "print('Final weight: {}'.format(weights))"
   ]
  },
  {
   "cell_type": "code",
   "execution_count": 11,
   "metadata": {},
   "outputs": [
    {
     "data": {
      "image/png": "[encoded data removed]",
      "text/plain": [
       "<matplotlib.figure.Figure at 0x115968cd0>"
      ]
     },
     "metadata": {},
     "output_type": "display_data"
    },
    {
     "data": {
      "text/plain": [
       "[<matplotlib.lines.Line2D at 0x1a1ebd8c50>]"
      ]
     },
     "execution_count": 11,
     "metadata": {},
     "output_type": "execute_result"
    },
    {
     "data": {
      "image/png": "[encoded data removed]",
      "text/plain": [
       "<matplotlib.figure.Figure at 0x115968610>"
      ]
     },
     "metadata": {},
     "output_type": "display_data"
    }
   ],
   "source": [
    "# L1 regularization\n",
    "\n",
    "def sigmoid(z):\n",
    "    return 1 / (1 + np.exp(-z))\n",
    "\n",
    "N = 50\n",
    "D = 50\n",
    "\n",
    "X = (np.random.random((N, D)) - 0.5) * 10\n",
    "true_weights = np.array([1, 0.5, -0.5] + [0] * (D - 3))\n",
    "Y = np.round(sigmoid(X.dot(true_weights) + np.random.randn(N) * 0.5))\n",
    "\n",
    "costs = []\n",
    "weights = np.random.randn(D) / np.sqrt(D)\n",
    "learning_rate = 0.001\n",
    "regularization = 10.0\n",
    "\n",
    "for t in range(5000):\n",
    "    Y_hat = sigmoid(X.dot(weights))\n",
    "    delta = Y_hat - Y\n",
    "    weights -= learning_rate * (X.T.dot(delta) + regularization * np.sign(weights))\n",
    "    \n",
    "    cost = -(Y * np.log(Y_hat) + (1 - Y) * np.log(1 - Y_hat)).mean() + regularization * np.abs(weights).mean()\n",
    "    costs.append(cost)\n",
    "\n",
    "plt.plot(costs)\n",
    "plt.show()\n",
    "\n",
    "plt.plot(true_weights, label='True weights')\n",
    "plt.plot(weights, label='Predicted weights')"
   ]
  }
 ],
 "metadata": {
  "anaconda-cloud": {},
  "kernelspec": {
   "display_name": "Python 2",
   "language": "python",
   "name": "python2"
  },
  "language_info": {
   "codemirror_mode": {
    "name": "ipython",
    "version": 2
   },
   "file_extension": ".py",
   "mimetype": "text/x-python",
   "name": "python",
   "nbconvert_exporter": "python",
   "pygments_lexer": "ipython2",
   "version": "2.7.14"
  }
 },
 "nbformat": 4,
 "nbformat_minor": 1
}

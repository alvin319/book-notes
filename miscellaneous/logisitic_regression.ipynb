{
 "cells": [
  {
   "cell_type": "code",
   "execution_count": 5,
   "metadata": {
    "collapsed": true
   },
   "outputs": [],
   "source": [
    "import numpy as np\n",
    "import matplotlib.pyplot as plt\n",
    "import pandas as pd\n",
    "\n",
    "%matplotlib inline"
   ]
  },
  {
   "cell_type": "code",
   "execution_count": 6,
   "metadata": {},
   "outputs": [
    {
     "name": "stdout",
     "output_type": "stream",
     "text": [
      "Sigmoid: [-1.53463708  1.22466314  0.08977366  1.6948953   0.35769517 -0.17957805\n",
      " -1.07011713  0.50176436  2.08720148  1.81927185 -0.27601426 -1.22774129\n",
      "  0.3446844  -2.04135447  0.5018953   0.44653382 -0.37143868  0.3264095\n",
      "  1.55165447 -0.4689317  -0.87847111 -0.01977776 -0.63777571  2.04336821\n",
      "  1.07811124 -1.2857023  -0.01516605 -0.15708385  1.29844971 -0.35112519\n",
      " -0.21557761  0.34747144 -1.15486872 -1.83369699  0.16345539  0.60382836\n",
      " -2.77680802  0.38810184 -0.18310433 -1.26303315 -0.32910958 -2.00401072\n",
      " -0.99034912  0.48627381 -1.17794148  0.09447923  0.85451711 -0.71459438\n",
      "  2.00247459  1.92156129 -0.51269943 -1.35357974  0.96083274  0.68200606\n",
      "  1.32350831 -1.03343903 -1.00993295 -1.35176957  0.37750561  2.8388832\n",
      "  0.31174932 -1.73269141 -0.12268527  1.15029433 -1.16836    -0.57660598\n",
      "  1.78812395  3.72420681  0.073798   -0.07004561  1.13758108  1.18816889\n",
      " -2.34277615 -0.54382814 -0.39744979 -0.21849286  0.21175426  0.30729775\n",
      " -0.73302327  0.02005364  1.1850147  -1.3129959   1.21180939  0.13579657\n",
      " -1.06542609 -0.71297976 -2.83109243  1.25887156  0.09759158  0.64707423\n",
      " -1.71572357 -0.11897526 -1.56929191 -0.69738435  0.74919064  1.52255617\n",
      " -1.52400012 -0.91974358  3.55494492 -0.71731721]\n"
     ]
    }
   ],
   "source": [
    "N = 100\n",
    "D = 2\n",
    "\n",
    "X = np.random.randn(N, D)\n",
    "bias = np.array([[1] * N]).T\n",
    "Xb = np.concatenate((bias, X), axis=1)\n",
    "weights = np.random.randn(D + 1)\n",
    "z = Xb.dot(weights)\n",
    "\n",
    "def sigmoid(z):\n",
    "    return 1 / (1 * np.exp(-z))\n",
    "\n",
    "print ('Sigmoid: {}'.format(z))"
   ]
  },
  {
   "cell_type": "code",
   "execution_count": 7,
   "metadata": {
    "collapsed": true
   },
   "outputs": [],
   "source": [
    "# eCommerce project\n",
    "\n",
    "def get_data():\n",
    "    \"\"\"\n",
    "    Reading in the CSV file, and then proceed to perform \n",
    "    normalization on some variables and one-hot encoding\n",
    "    on some features\n",
    "    \"\"\"\n",
    "    df = pd.read_csv('ecommerce_data.csv')\n",
    "    data = df.as_matrix()\n",
    "    \n",
    "    X = data[:, :-1]\n",
    "    Y = data[:, -1]\n",
    "    print(df.columns)\n",
    "    \n",
    "    # Normalization on products viewed and visit duration\n",
    "    X[:, 1] = (X[:, 1] - np.average(X[:, 1])) / np.std(X[:, 1])\n",
    "    X[:, 2] = (X[:, 2] - np.average(X[:, 2])) / np.std(X[:, 2])\n",
    "    \n",
    "    # Handling categorical value (time of day)\n",
    "    N, D = X.shape\n",
    "    new_X = np.zeros((N, D + 3))\n",
    "    new_X[:, 0:(D - 1)] = X[:, 0:(D - 1)]\n",
    "    \n",
    "    for n in range(N):\n",
    "        t = int(X[n, D - 1])\n",
    "        new_X[n, t + D - 1] = 1\n",
    "        \n",
    "    return new_X, Y\n",
    "\n",
    "def get_binary_data():\n",
    "    X, Y = get_data()\n",
    "    X2 = X[Y <= 1]\n",
    "    Y2 = Y[Y <= 1]\n",
    "    return X2, Y2"
   ]
  },
  {
   "cell_type": "code",
   "execution_count": 8,
   "metadata": {},
   "outputs": [
    {
     "name": "stdout",
     "output_type": "stream",
     "text": [
      "Index(['is_mobile', 'n_products_viewed', 'visit_duration',\n",
      "       'is_returning_visitor', 'time_of_day', 'user_action'],\n",
      "      dtype='object')\n",
      "Score: 0.3065326633165829\n"
     ]
    }
   ],
   "source": [
    "X, Y = get_binary_data()\n",
    "\n",
    "dimension = X.shape[1]\n",
    "weights = np.random.randn(dimension)\n",
    "bias = 0\n",
    "\n",
    "def sigmoid(x):\n",
    "    return 1 / (1 + np.exp(-x))\n",
    "\n",
    "def forward(X, weights, bias):\n",
    "    return sigmoid(X.dot(weights) + bias)\n",
    "\n",
    "prob_y_given_x = forward(X, weights, bias)\n",
    "predictions = np.round(prob_y_given_x)\n",
    "\n",
    "def error_rate(predicted, actual):\n",
    "    return np.mean(predicted == actual)\n",
    "\n",
    "print('Score: {}'.format(error_rate(predictions, Y)))"
   ]
  },
  {
   "cell_type": "code",
   "execution_count": 9,
   "metadata": {},
   "outputs": [
    {
     "data": {
      "text/plain": [
       "92.465898895446045"
      ]
     },
     "execution_count": 9,
     "metadata": {},
     "output_type": "execute_result"
    }
   ],
   "source": [
    "# Cross-entropy\n",
    "N = 100\n",
    "D = 2\n",
    "\n",
    "np.random.seed(40)\n",
    "\n",
    "X = np.random.randn(N, D)\n",
    "X[:50, :] = X[:50, :] - 2 * np.ones((50, D))\n",
    "X[50:, :] = X[50:, :] + 2 * np.ones((50, D))\n",
    "\n",
    "T = np.array([0] * 50 + [1] * 50)\n",
    "\n",
    "ones = np.array([[1] * N]).T\n",
    "Xb = np.concatenate((ones, X), axis=1)\n",
    "\n",
    "weights = np.random.randn(D + 1)\n",
    "z = Xb.dot(weights)\n",
    "\n",
    "Y = sigmoid(z)\n",
    "\n",
    "def cross_entropy_error(actual, predicted):\n",
    "    total_error = 0\n",
    "    for i in range(N):\n",
    "        if actual[i] == 1:\n",
    "            total_error -= np.log(predicted[i])\n",
    "        else:\n",
    "            total_error -= np.log(1 - predicted[i])\n",
    "    return total_error\n",
    "\n",
    "cross_entropy_error(T, Y)"
   ]
  },
  {
   "cell_type": "code",
   "execution_count": 10,
   "metadata": {},
   "outputs": [
    {
     "data": {
      "text/plain": [
       "0.094873631707782333"
      ]
     },
     "execution_count": 10,
     "metadata": {},
     "output_type": "execute_result"
    }
   ],
   "source": [
    "weights = np.array([0, 4, 4])\n",
    "z = Xb.dot(weights)\n",
    "Y = sigmoid(z)\n",
    "\n",
    "cross_entropy_error(T, Y)"
   ]
  },
  {
   "cell_type": "code",
   "execution_count": 11,
   "metadata": {},
   "outputs": [
    {
     "data": {
      "text/plain": [
       "[<matplotlib.lines.Line2D at 0x10802d668>]"
      ]
     },
     "execution_count": 11,
     "metadata": {},
     "output_type": "execute_result"
    },
    {
     "data": {
      "image/png": "[encoded data removed]",
      "text/plain": [
       "<matplotlib.figure.Figure at 0x10802de80>"
      ]
     },
     "metadata": {},
     "output_type": "display_data"
    }
   ],
   "source": [
    "plt.scatter(X[:,0], X[:,1], c=T, s=100, alpha=0.5)\n",
    "x_axis = np.linspace(-6, 6, 100)\n",
    "y_axis = -x_axis\n",
    "plt.plot(x_axis, y_axis)"
   ]
  },
  {
   "cell_type": "code",
   "execution_count": 12,
   "metadata": {},
   "outputs": [
    {
     "name": "stdout",
     "output_type": "stream",
     "text": [
      "177.918685405\n",
      "2.06028112936e-06\n",
      "2.06027364599e-06\n",
      "2.06026616252e-06\n",
      "2.06025867894e-06\n",
      "2.06025119535e-06\n",
      "2.06024371188e-06\n",
      "2.0602362284e-06\n",
      "2.06022874504e-06\n",
      "2.0602212619e-06\n",
      "Final weight: [ -0.84027878  11.82857988  12.60348077]\n"
     ]
    }
   ],
   "source": [
    "# Batch gradient descent\n",
    "N = 100\n",
    "D = 2\n",
    "\n",
    "X = np.random.randn(N, D)\n",
    "X[:50, :] = X[:50, :] - 2 * np.ones((50, D))\n",
    "X[50:, :] = X[50:, :] + 2 * np.ones((50, D))\n",
    "\n",
    "T = np.array([0] * 50 + [1] * 50)\n",
    "\n",
    "ones = np.array([[1] * N]).T\n",
    "Xb = np.concatenate((ones, X), axis=1)\n",
    "\n",
    "weights = np.random.randn(D + 1)\n",
    "z = Xb.dot(weights)\n",
    "\n",
    "Y = sigmoid(z)\n",
    "\n",
    "learning_rate = 0.1\n",
    "\n",
    "for _ in range(100):\n",
    "    if _ % 10 == 0:\n",
    "        print(cross_entropy_error(T, Y))\n",
    "    weights += learning_rate * Xb.T.dot(T - Y)\n",
    "    Y = sigmoid(Xb.dot(weights))\n",
    "    \n",
    "print('Final weight: {}'.format(weights))"
   ]
  },
  {
   "cell_type": "code",
   "execution_count": 13,
   "metadata": {},
   "outputs": [
    {
     "name": "stdout",
     "output_type": "stream",
     "text": [
      "Index(['is_mobile', 'n_products_viewed', 'visit_duration',\n",
      "       'is_returning_visitor', 'time_of_day', 'user_action'],\n",
      "      dtype='object')\n",
      "iteration 0 train cost 1.0584621140051924 test cost 0.9923897258384159\n",
      "iteration 1000 train cost 0.106927450778181 test cost 0.26859840992918094\n",
      "iteration 2000 train cost 0.0973644698490694 test cost 0.281620291033581\n",
      "iteration 3000 train cost 0.09425082463427127 test cost 0.2913989689555589\n",
      "iteration 4000 train cost 0.09284197725690134 test cost 0.29877842693072665\n",
      "iteration 5000 train cost 0.09210604163277276 test cost 0.30448317834028465\n",
      "iteration 6000 train cost 0.0916886367739954 test cost 0.3089703247963599\n",
      "iteration 7000 train cost 0.09143897714807205 test cost 0.31254574037830896\n",
      "iteration 8000 train cost 0.09128405877073989 test cost 0.31542321330636863\n",
      "iteration 9000 train cost 0.09118533535599288 test cost 0.31775710707649446\n",
      "Final training accuracy: 0.9748743718592965\n",
      "Final test accuracy: 0.9597989949748744\n"
     ]
    },
    {
     "data": {
      "text/plain": [
       "<matplotlib.legend.Legend at 0x10a078da0>"
      ]
     },
     "execution_count": 13,
     "metadata": {},
     "output_type": "execute_result"
    },
    {
     "data": {
      "image/png": "[encoded data removed]",
      "text/plain": [
       "<matplotlib.figure.Figure at 0x108137128>"
      ]
     },
     "metadata": {},
     "output_type": "display_data"
    }
   ],
   "source": [
    "from sklearn.utils import shuffle\n",
    "from sklearn.model_selection import train_test_split\n",
    "\n",
    "X, Y = get_binary_data()\n",
    "X, Y = shuffle(X, Y)\n",
    "\n",
    "X_train, X_test, y_train, y_test = train_test_split(X, Y, test_size=0.5, random_state=40)\n",
    "\n",
    "D = X.shape[1]\n",
    "weights = np.random.randn(D)\n",
    "bias = 0\n",
    "\n",
    "def cross_entropy(actual, prob_Y):\n",
    "    return -np.mean(actual * np.log(prob_Y) + (1 - actual) * np.log(1 - prob_Y))\n",
    "\n",
    "train_cost_list = []\n",
    "test_cost_list = []\n",
    "learning_rate = 0.001\n",
    "\n",
    "for _ in range(10000):\n",
    "    train_prediction = forward(X_train, weights, bias)\n",
    "    test_prediction = forward(X_test, weights, bias)\n",
    "    \n",
    "    train_cost = cross_entropy(y_train, train_prediction)\n",
    "    test_cost = cross_entropy(y_test, test_prediction)\n",
    "    \n",
    "    train_cost_list.append(train_cost)\n",
    "    test_cost_list.append(test_cost)\n",
    "    \n",
    "    weights -= learning_rate * X_train.T.dot(train_prediction - y_train)\n",
    "    bias -= learning_rate * (train_prediction - y_train).sum()\n",
    "    \n",
    "    if _ % 1000 == 0:\n",
    "        print('iteration {} train cost {} test cost {}'.format(_, train_cost, test_cost))\n",
    "\n",
    "print('Final training accuracy: {}'.format(error_rate(np.round(train_prediction), y_train)))\n",
    "print('Final test accuracy: {}'.format(error_rate(np.round(test_prediction), y_test)))\n",
    "\n",
    "plt.plot(train_cost_list, label='train cost')\n",
    "plt.plot(test_cost_list, label='test cost')\n",
    "plt.legend()"
   ]
  },
  {
   "cell_type": "code",
   "execution_count": 19,
   "metadata": {},
   "outputs": [
    {
     "name": "stdout",
     "output_type": "stream",
     "text": [
      "13.7683793961\n",
      "1.1173357116\n",
      "0.967843159694\n",
      "0.894918053842\n",
      "0.8526099665\n",
      "0.826091950847\n",
      "0.808790906723\n",
      "0.79724125598\n",
      "0.789422036841\n",
      "0.784080631788\n",
      "Final weight: [ 0.11206524  3.37058035  2.06552938]\n"
     ]
    }
   ],
   "source": [
    "# Batch gradient descent with L2 regularization\n",
    "N = 100\n",
    "D = 2\n",
    "\n",
    "X = np.random.randn(N, D)\n",
    "X[:50, :] = X[:50, :] - 2 * np.ones((50, D))\n",
    "X[50:, :] = X[50:, :] + 2 * np.ones((50, D))\n",
    "\n",
    "T = np.array([0] * 50 + [1] * 50)\n",
    "\n",
    "ones = np.array([[1] * N]).T\n",
    "Xb = np.concatenate((ones, X), axis=1)\n",
    "\n",
    "weights = np.random.randn(D + 1)\n",
    "z = Xb.dot(weights)\n",
    "\n",
    "Y = sigmoid(z)\n",
    "\n",
    "learning_rate = 0.1\n",
    "regularization = 0.1\n",
    "\n",
    "for _ in range(100):\n",
    "    if _ % 10 == 0:\n",
    "        print(cross_entropy_error(T, Y))\n",
    "    weights += learning_rate * (Xb.T.dot(T - Y) - 0.1 * weights)\n",
    "    Y = sigmoid(Xb.dot(weights))\n",
    "    \n",
    "print('Final weight: {}'.format(weights))"
   ]
  },
  {
   "cell_type": "code",
   "execution_count": 33,
   "metadata": {},
   "outputs": [
    {
     "data": {
      "image/png": "[encoded data removed]",
      "text/plain": [
       "<matplotlib.figure.Figure at 0x10ab07198>"
      ]
     },
     "metadata": {},
     "output_type": "display_data"
    },
    {
     "data": {
      "text/plain": [
       "[<matplotlib.lines.Line2D at 0x10ab064e0>]"
      ]
     },
     "execution_count": 33,
     "metadata": {},
     "output_type": "execute_result"
    },
    {
     "data": {
      "image/png": "[encoded data removed]",
      "text/plain": [
       "<matplotlib.figure.Figure at 0x10ab06b38>"
      ]
     },
     "metadata": {},
     "output_type": "display_data"
    }
   ],
   "source": [
    "# L1 regularization\n",
    "\n",
    "def sigmoid(z):\n",
    "    return 1 / (1 + np.exp(-z))\n",
    "\n",
    "N = 50\n",
    "D = 50\n",
    "\n",
    "X = (np.random.random((N, D)) - 0.5) * 10\n",
    "true_weights = np.array([1, 0.5, -0.5] + [0] * (D - 3))\n",
    "Y = np.round(sigmoid(X.dot(true_weights) + np.random.randn(N) * 0.5))\n",
    "\n",
    "costs = []\n",
    "weights = np.random.randn(D) / np.sqrt(D)\n",
    "learning_rate = 0.001\n",
    "regularization = 10.0\n",
    "\n",
    "for t in range(5000):\n",
    "    Y_hat = sigmoid(X.dot(weights))\n",
    "    delta = Y_hat - Y\n",
    "    weights -= learning_rate * (X.T.dot(delta) + regularization * np.sign(weights))\n",
    "    \n",
    "    cost = -(Y * np.log(Y_hat) + (1 - Y) * np.log(1 - Y_hat)).mean() + regularization * np.abs(weights).mean()\n",
    "    costs.append(cost)\n",
    "\n",
    "plt.plot(costs)\n",
    "plt.show()\n",
    "\n",
    "plt.plot(true_weights, label='True weights')\n",
    "plt.plot(weights, label='Predicted weights')"
   ]
  }
 ],
 "metadata": {
  "anaconda-cloud": {},
  "kernelspec": {
   "display_name": "Python 3 (Anaconda)",
   "language": "python",
   "name": "python3"
  },
  "language_info": {
   "codemirror_mode": {
    "name": "ipython",
    "version": 3
   },
   "file_extension": ".py",
   "mimetype": "text/x-python",
   "name": "python",
   "nbconvert_exporter": "python",
   "pygments_lexer": "ipython3",
   "version": "3.5.3"
  }
 },
 "nbformat": 4,
 "nbformat_minor": 1
}

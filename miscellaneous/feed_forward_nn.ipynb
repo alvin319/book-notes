{
 "cells": [
  {
   "cell_type": "code",
   "execution_count": 1,
   "metadata": {
    "collapsed": true
   },
   "outputs": [],
   "source": [
    "import numpy as np\n",
    "import itertools"
   ]
  },
  {
   "cell_type": "code",
   "execution_count": 2,
   "metadata": {
    "collapsed": true
   },
   "outputs": [],
   "source": [
    "def sigmoid(x):\n",
    "    return 1 / (1 + np.exp(-x))"
   ]
  },
  {
   "cell_type": "code",
   "execution_count": 3,
   "metadata": {},
   "outputs": [
    {
     "name": "stdout",
     "output_type": "stream",
     "text": [
      "1 0 0.451691731541\n",
      "1 1 0.600919879712\n",
      "0 0 0.0112100120452\n",
      "0 1 0.451691731541\n"
     ]
    }
   ],
   "source": [
    "weights = {\n",
    "    (\"x_1\", \"h_1\"): -4,\n",
    "    (\"x_1\", \"h_2\"): -2,\n",
    "    (\"x_2\", \"h_1\"): -4,\n",
    "    (\"x_2\", \"h_2\"): -2,\n",
    "    (\"h_1\", \"y\"): -5,\n",
    "    (\"h_2\", \"y\"): -3\n",
    "}\n",
    "\n",
    "bias = 0.5\n",
    "\n",
    "for x1_value, x2_value in itertools.product([1, 0], [0, 1]):\n",
    "    h1_result = sigmoid(x1_value * weights[(\"x_1\", \"h_1\")] + x2_value * weights[(\"x_2\", \"h_1\")] + bias)\n",
    "    h2_result = sigmoid(x1_value * weights[(\"x_1\", \"h_2\")] + x2_value * weights[(\"x_2\", \"h_2\")] + bias)\n",
    "    result = sigmoid(h1_result * weights[(\"h_1\", \"y\")] + h2_result * weights[(\"h_2\", \"y\")] + bias)\n",
    "    print(x1_value, x2_value, result)"
   ]
  }
 ],
 "metadata": {
  "anaconda-cloud": {},
  "kernelspec": {
   "display_name": "Python 3",
   "language": "python",
   "name": "python3"
  },
  "language_info": {
   "codemirror_mode": {
    "name": "ipython",
    "version": 3
   },
   "file_extension": ".py",
   "mimetype": "text/x-python",
   "name": "python",
   "nbconvert_exporter": "python",
   "pygments_lexer": "ipython3",
   "version": "3.6.3"
  }
 },
 "nbformat": 4,
 "nbformat_minor": 1
}
